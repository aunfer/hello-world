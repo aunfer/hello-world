{
  "nbformat": 4,
  "nbformat_minor": 0,
  "metadata": {
    "colab": {
      "provenance": [],
      "authorship_tag": "ABX9TyNq0N6030vXremyyDqOEmZ/",
      "include_colab_link": true
    },
    "kernelspec": {
      "name": "python3",
      "display_name": "Python 3"
    },
    "language_info": {
      "name": "python"
    }
  },
  "cells": [
    {
      "cell_type": "markdown",
      "metadata": {
        "id": "view-in-github",
        "colab_type": "text"
      },
      "source": [
        "<a href=\"https://colab.research.google.com/github/aunfer/hello-world/blob/main/Projeto_Final.ipynb\" target=\"_parent\"><img src=\"https://colab.research.google.com/assets/colab-badge.svg\" alt=\"Open In Colab\"/></a>"
      ]
    },
    {
      "cell_type": "markdown",
      "source": [
        "## **Teste**"
      ],
      "metadata": {
        "id": "oGBiBC1NGno_"
      }
    },
    {
      "cell_type": "code",
      "execution_count": 33,
      "metadata": {
        "colab": {
          "base_uri": "https://localhost:8080/"
        },
        "id": "JbH3AKlY-3Qk",
        "outputId": "80b0bbc7-b671-4286-988c-2135686ae171"
      },
      "outputs": [
        {
          "output_type": "stream",
          "name": "stdout",
          "text": [
            "Hello World\n"
          ]
        }
      ],
      "source": [
        "print(\"Hello World\")"
      ]
    },
    {
      "cell_type": "markdown",
      "source": [
        "## **Rascunhos**"
      ],
      "metadata": {
        "id": "5H3xSDsWGsV_"
      }
    },
    {
      "cell_type": "code",
      "source": [
        "# url_ovos=\"https://servicodados.ibge.gov.br/api/v3/agregados/6832/periodos/201804|201901|201902|201903|201904|202001|202002|202003|202004|202101|202102|202103|202104|202201|202202|202203|202204|202301|202302|202303/variaveis/29?localidades=N1[all]&classificacao=12716[all]\"\n",
        "# url_pop_estimada=\"https://servicodados.ibge.gov.br/api/v3/agregados/6579/periodos/2017|2018|2019|2020|2021/variaveis/9324?localidades=N1[all]\"\n",
        "# url_pop_ativa=\"https://servicodados.ibge.gov.br/api/v3/agregados/3918/periodos/201701|201702|201703|201704|201705|201706|201707|201708|201709|201710|201711|201712|201801|201802|201803|201804|201805|201806|201807|201808|201809|201810|201811|201812|201901|201902|201903|201904|201905|201906|201907|201908|201909|201910|201911|201912|202001|202002|202003|202004|202005|202006|202007|202008|202009|202010|202011|202012|202101|202102|202103|202104|202105|202106|202107|202108|202109|202110|202111|202112|202201|202202|202203|202204|202205|202206|202207|202208|202209|202210|202211|202212|202301|202302|202303|202304|202305|202306|202307|202308|202309|202310/variaveis/4090?localidades=N1[all]&classificacao=12027[all]\"\n",
        "# url_renda=\"https://servicodados.ibge.gov.br/api/v3/agregados/6390/periodos/201701|201702|201703|201704|201705|201706|201707|201708|201709|201710|201711|201712|201801|201802|201803|201804|201805|201806|201807|201808|201809|201810|201811|201812|201901|201902|201903|201904|201905|201906|201907|201908|201909|201910|201911|201912|202001|202002|202003|202004|202005|202006|202007|202008|202009|202010|202011|202012|202101|202102|202103|202104|202105|202106|202107|202108|202109|202110|202111|202112|202201|202202|202203|202204|202205|202206|202207|202208|202209|202210|202211|202212|202301|202302|202303|202304|202305|202306|202307|202308|202309|202310/variaveis/5929?localidades=N1[all]\"\n",
        "\n",
        "# url_instituicoes=\"https://olinda.bcb.gov.br/olinda/servico/Informes_ListaTarifasPorInstituicaoFinanceira/versao/v1/odata/ListaInstituicoesDeGrupoConsolidado(CodigoGrupoConsolidado=@CodigoGrupoConsolidado)?@CodigoGrupoConsolidado='03'&$top=10000&$format=json&$select=Cnpj,Nome\"\n",
        "# 61186680\n",
        "# 00360305\n",
        "# 01181521\n",
        "# 00000000\n",
        "# 00416968\n",
        "# 60872504\n",
        "# 90400888\n",
        "# 60701190\n",
        "# 33264668\n",
        "# 60746948\n",
        "# 61033106\n",
        "# 31872495\n",
        "# 30306294\n"
      ],
      "metadata": {
        "id": "McLIR10XQ0pB"
      },
      "execution_count": 34,
      "outputs": []
    },
    {
      "cell_type": "markdown",
      "source": [
        "## **Importacoes + Definicao das bases de dados**"
      ],
      "metadata": {
        "id": "NqgvdsvrHIRr"
      }
    },
    {
      "cell_type": "code",
      "source": [
        "import pandas as pd\n",
        "import numpy as np\n",
        "import matplotlib.pyplot as plt\n",
        "import seaborn as sns\n",
        "import requests\n",
        "\n",
        "\n",
        "url_taxas_juros=\"https://olinda.bcb.gov.br/olinda/servico/taxaJuros/versao/v2/odata/TaxasJurosMensalPorMes?$top=10000&$format=json&$select=Mes,Modalidade,Posicao,InstituicaoFinanceira,TaxaJurosAoMes,TaxaJurosAoAno,cnpj8,anoMes\"\n",
        "url_expecs=\"https://olinda.bcb.gov.br/olinda/servico/Expectativas/versao/v1/odata/ExpectativasMercadoInflacao12Meses?$format=json&$select=Indicador,Data,Media,Mediana\"\n",
        "url_ipca=\"https://servicodados.ibge.gov.br/api/v3/agregados/6691/periodos/201701|201702|201703|201704|201705|201706|201707|201708|201709|201710|201711|201712|201801|201802|201803|201804|201805|201806|201807|201808|201809|201810|201811|201812|201901|201902|201903|201904|201905|201906|201907|201908|201909|201910|201911|201912|202001|202002|202003|202004|202005|202006|202007|202008|202009|202010|202011|202012|202101|202102|202103|202104|202105|202106|202107|202108|202109|202110|202111|202112|202201|202202|202203|202204|202205|202206|202207|202208|202209|202210|202211|202212|202301|202302|202303|202304|202305|202306|202307|202308|202309|202310/variaveis/2266|63|9798|9799|9800|9801?localidades=N1[all]\"\n"
      ],
      "metadata": {
        "id": "FdjEUWzlAzXi"
      },
      "execution_count": 35,
      "outputs": []
    },
    {
      "cell_type": "markdown",
      "source": [
        "## **Categorizacao dos erros de API**"
      ],
      "metadata": {
        "id": "SnHYkfhbHPDS"
      }
    },
    {
      "cell_type": "code",
      "source": [
        "codigos=pd.DataFrame({(\"200\",\"OK\"),(\"201\",\"Created\"),(\"203\",\"Non-Authoritative Information\"),(\"204\",\"No Content\"),(\"400\",\"Bad Request\"),(\"401\",\"Unauthorized\"),(\"403\",\"Forbidden\"),(\"404\",\"Not Found\"),(\"409\",\"Conflict\"),(\"500\",\"Internal Server Error\"),(\"503\",\"Service Unavailable\"),(\"501\",\"Not Implemented\"),(\"504\",\"Gateway Timeout\"),(\"599\",\"Network Timeout\"),(\"502\",\"Bad Gateway\")}, columns =[\"Codigo\", \"Mensagem\"])\n",
        "codigos.set_index(\"Codigo\",inplace=True)\n",
        "codigos"
      ],
      "metadata": {
        "colab": {
          "base_uri": "https://localhost:8080/",
          "height": 551
        },
        "id": "9sCZxhsSWO-9",
        "outputId": "fa580ec2-0927-4d6b-884e-686af0e4ba28"
      },
      "execution_count": 36,
      "outputs": [
        {
          "output_type": "execute_result",
          "data": {
            "text/plain": [
              "                             Mensagem\n",
              "Codigo                               \n",
              "599                   Network Timeout\n",
              "401                      Unauthorized\n",
              "201                           Created\n",
              "501                   Not Implemented\n",
              "203     Non-Authoritative Information\n",
              "204                        No Content\n",
              "502                       Bad Gateway\n",
              "403                         Forbidden\n",
              "504                   Gateway Timeout\n",
              "500             Internal Server Error\n",
              "409                          Conflict\n",
              "200                                OK\n",
              "503               Service Unavailable\n",
              "400                       Bad Request\n",
              "404                         Not Found"
            ],
            "text/html": [
              "\n",
              "  <div id=\"df-83a3c8cb-84f5-4130-9c84-45de1fc46a4a\" class=\"colab-df-container\">\n",
              "    <div>\n",
              "<style scoped>\n",
              "    .dataframe tbody tr th:only-of-type {\n",
              "        vertical-align: middle;\n",
              "    }\n",
              "\n",
              "    .dataframe tbody tr th {\n",
              "        vertical-align: top;\n",
              "    }\n",
              "\n",
              "    .dataframe thead th {\n",
              "        text-align: right;\n",
              "    }\n",
              "</style>\n",
              "<table border=\"1\" class=\"dataframe\">\n",
              "  <thead>\n",
              "    <tr style=\"text-align: right;\">\n",
              "      <th></th>\n",
              "      <th>Mensagem</th>\n",
              "    </tr>\n",
              "    <tr>\n",
              "      <th>Codigo</th>\n",
              "      <th></th>\n",
              "    </tr>\n",
              "  </thead>\n",
              "  <tbody>\n",
              "    <tr>\n",
              "      <th>599</th>\n",
              "      <td>Network Timeout</td>\n",
              "    </tr>\n",
              "    <tr>\n",
              "      <th>401</th>\n",
              "      <td>Unauthorized</td>\n",
              "    </tr>\n",
              "    <tr>\n",
              "      <th>201</th>\n",
              "      <td>Created</td>\n",
              "    </tr>\n",
              "    <tr>\n",
              "      <th>501</th>\n",
              "      <td>Not Implemented</td>\n",
              "    </tr>\n",
              "    <tr>\n",
              "      <th>203</th>\n",
              "      <td>Non-Authoritative Information</td>\n",
              "    </tr>\n",
              "    <tr>\n",
              "      <th>204</th>\n",
              "      <td>No Content</td>\n",
              "    </tr>\n",
              "    <tr>\n",
              "      <th>502</th>\n",
              "      <td>Bad Gateway</td>\n",
              "    </tr>\n",
              "    <tr>\n",
              "      <th>403</th>\n",
              "      <td>Forbidden</td>\n",
              "    </tr>\n",
              "    <tr>\n",
              "      <th>504</th>\n",
              "      <td>Gateway Timeout</td>\n",
              "    </tr>\n",
              "    <tr>\n",
              "      <th>500</th>\n",
              "      <td>Internal Server Error</td>\n",
              "    </tr>\n",
              "    <tr>\n",
              "      <th>409</th>\n",
              "      <td>Conflict</td>\n",
              "    </tr>\n",
              "    <tr>\n",
              "      <th>200</th>\n",
              "      <td>OK</td>\n",
              "    </tr>\n",
              "    <tr>\n",
              "      <th>503</th>\n",
              "      <td>Service Unavailable</td>\n",
              "    </tr>\n",
              "    <tr>\n",
              "      <th>400</th>\n",
              "      <td>Bad Request</td>\n",
              "    </tr>\n",
              "    <tr>\n",
              "      <th>404</th>\n",
              "      <td>Not Found</td>\n",
              "    </tr>\n",
              "  </tbody>\n",
              "</table>\n",
              "</div>\n",
              "    <div class=\"colab-df-buttons\">\n",
              "\n",
              "  <div class=\"colab-df-container\">\n",
              "    <button class=\"colab-df-convert\" onclick=\"convertToInteractive('df-83a3c8cb-84f5-4130-9c84-45de1fc46a4a')\"\n",
              "            title=\"Convert this dataframe to an interactive table.\"\n",
              "            style=\"display:none;\">\n",
              "\n",
              "  <svg xmlns=\"http://www.w3.org/2000/svg\" height=\"24px\" viewBox=\"0 -960 960 960\">\n",
              "    <path d=\"M120-120v-720h720v720H120Zm60-500h600v-160H180v160Zm220 220h160v-160H400v160Zm0 220h160v-160H400v160ZM180-400h160v-160H180v160Zm440 0h160v-160H620v160ZM180-180h160v-160H180v160Zm440 0h160v-160H620v160Z\"/>\n",
              "  </svg>\n",
              "    </button>\n",
              "\n",
              "  <style>\n",
              "    .colab-df-container {\n",
              "      display:flex;\n",
              "      gap: 12px;\n",
              "    }\n",
              "\n",
              "    .colab-df-convert {\n",
              "      background-color: #E8F0FE;\n",
              "      border: none;\n",
              "      border-radius: 50%;\n",
              "      cursor: pointer;\n",
              "      display: none;\n",
              "      fill: #1967D2;\n",
              "      height: 32px;\n",
              "      padding: 0 0 0 0;\n",
              "      width: 32px;\n",
              "    }\n",
              "\n",
              "    .colab-df-convert:hover {\n",
              "      background-color: #E2EBFA;\n",
              "      box-shadow: 0px 1px 2px rgba(60, 64, 67, 0.3), 0px 1px 3px 1px rgba(60, 64, 67, 0.15);\n",
              "      fill: #174EA6;\n",
              "    }\n",
              "\n",
              "    .colab-df-buttons div {\n",
              "      margin-bottom: 4px;\n",
              "    }\n",
              "\n",
              "    [theme=dark] .colab-df-convert {\n",
              "      background-color: #3B4455;\n",
              "      fill: #D2E3FC;\n",
              "    }\n",
              "\n",
              "    [theme=dark] .colab-df-convert:hover {\n",
              "      background-color: #434B5C;\n",
              "      box-shadow: 0px 1px 3px 1px rgba(0, 0, 0, 0.15);\n",
              "      filter: drop-shadow(0px 1px 2px rgba(0, 0, 0, 0.3));\n",
              "      fill: #FFFFFF;\n",
              "    }\n",
              "  </style>\n",
              "\n",
              "    <script>\n",
              "      const buttonEl =\n",
              "        document.querySelector('#df-83a3c8cb-84f5-4130-9c84-45de1fc46a4a button.colab-df-convert');\n",
              "      buttonEl.style.display =\n",
              "        google.colab.kernel.accessAllowed ? 'block' : 'none';\n",
              "\n",
              "      async function convertToInteractive(key) {\n",
              "        const element = document.querySelector('#df-83a3c8cb-84f5-4130-9c84-45de1fc46a4a');\n",
              "        const dataTable =\n",
              "          await google.colab.kernel.invokeFunction('convertToInteractive',\n",
              "                                                    [key], {});\n",
              "        if (!dataTable) return;\n",
              "\n",
              "        const docLinkHtml = 'Like what you see? Visit the ' +\n",
              "          '<a target=\"_blank\" href=https://colab.research.google.com/notebooks/data_table.ipynb>data table notebook</a>'\n",
              "          + ' to learn more about interactive tables.';\n",
              "        element.innerHTML = '';\n",
              "        dataTable['output_type'] = 'display_data';\n",
              "        await google.colab.output.renderOutput(dataTable, element);\n",
              "        const docLink = document.createElement('div');\n",
              "        docLink.innerHTML = docLinkHtml;\n",
              "        element.appendChild(docLink);\n",
              "      }\n",
              "    </script>\n",
              "  </div>\n",
              "\n",
              "\n",
              "<div id=\"df-6c22bbc7-113e-4a02-a2ca-f91c14f89bd7\">\n",
              "  <button class=\"colab-df-quickchart\" onclick=\"quickchart('df-6c22bbc7-113e-4a02-a2ca-f91c14f89bd7')\"\n",
              "            title=\"Suggest charts\"\n",
              "            style=\"display:none;\">\n",
              "\n",
              "<svg xmlns=\"http://www.w3.org/2000/svg\" height=\"24px\"viewBox=\"0 0 24 24\"\n",
              "     width=\"24px\">\n",
              "    <g>\n",
              "        <path d=\"M19 3H5c-1.1 0-2 .9-2 2v14c0 1.1.9 2 2 2h14c1.1 0 2-.9 2-2V5c0-1.1-.9-2-2-2zM9 17H7v-7h2v7zm4 0h-2V7h2v10zm4 0h-2v-4h2v4z\"/>\n",
              "    </g>\n",
              "</svg>\n",
              "  </button>\n",
              "\n",
              "<style>\n",
              "  .colab-df-quickchart {\n",
              "      --bg-color: #E8F0FE;\n",
              "      --fill-color: #1967D2;\n",
              "      --hover-bg-color: #E2EBFA;\n",
              "      --hover-fill-color: #174EA6;\n",
              "      --disabled-fill-color: #AAA;\n",
              "      --disabled-bg-color: #DDD;\n",
              "  }\n",
              "\n",
              "  [theme=dark] .colab-df-quickchart {\n",
              "      --bg-color: #3B4455;\n",
              "      --fill-color: #D2E3FC;\n",
              "      --hover-bg-color: #434B5C;\n",
              "      --hover-fill-color: #FFFFFF;\n",
              "      --disabled-bg-color: #3B4455;\n",
              "      --disabled-fill-color: #666;\n",
              "  }\n",
              "\n",
              "  .colab-df-quickchart {\n",
              "    background-color: var(--bg-color);\n",
              "    border: none;\n",
              "    border-radius: 50%;\n",
              "    cursor: pointer;\n",
              "    display: none;\n",
              "    fill: var(--fill-color);\n",
              "    height: 32px;\n",
              "    padding: 0;\n",
              "    width: 32px;\n",
              "  }\n",
              "\n",
              "  .colab-df-quickchart:hover {\n",
              "    background-color: var(--hover-bg-color);\n",
              "    box-shadow: 0 1px 2px rgba(60, 64, 67, 0.3), 0 1px 3px 1px rgba(60, 64, 67, 0.15);\n",
              "    fill: var(--button-hover-fill-color);\n",
              "  }\n",
              "\n",
              "  .colab-df-quickchart-complete:disabled,\n",
              "  .colab-df-quickchart-complete:disabled:hover {\n",
              "    background-color: var(--disabled-bg-color);\n",
              "    fill: var(--disabled-fill-color);\n",
              "    box-shadow: none;\n",
              "  }\n",
              "\n",
              "  .colab-df-spinner {\n",
              "    border: 2px solid var(--fill-color);\n",
              "    border-color: transparent;\n",
              "    border-bottom-color: var(--fill-color);\n",
              "    animation:\n",
              "      spin 1s steps(1) infinite;\n",
              "  }\n",
              "\n",
              "  @keyframes spin {\n",
              "    0% {\n",
              "      border-color: transparent;\n",
              "      border-bottom-color: var(--fill-color);\n",
              "      border-left-color: var(--fill-color);\n",
              "    }\n",
              "    20% {\n",
              "      border-color: transparent;\n",
              "      border-left-color: var(--fill-color);\n",
              "      border-top-color: var(--fill-color);\n",
              "    }\n",
              "    30% {\n",
              "      border-color: transparent;\n",
              "      border-left-color: var(--fill-color);\n",
              "      border-top-color: var(--fill-color);\n",
              "      border-right-color: var(--fill-color);\n",
              "    }\n",
              "    40% {\n",
              "      border-color: transparent;\n",
              "      border-right-color: var(--fill-color);\n",
              "      border-top-color: var(--fill-color);\n",
              "    }\n",
              "    60% {\n",
              "      border-color: transparent;\n",
              "      border-right-color: var(--fill-color);\n",
              "    }\n",
              "    80% {\n",
              "      border-color: transparent;\n",
              "      border-right-color: var(--fill-color);\n",
              "      border-bottom-color: var(--fill-color);\n",
              "    }\n",
              "    90% {\n",
              "      border-color: transparent;\n",
              "      border-bottom-color: var(--fill-color);\n",
              "    }\n",
              "  }\n",
              "</style>\n",
              "\n",
              "  <script>\n",
              "    async function quickchart(key) {\n",
              "      const quickchartButtonEl =\n",
              "        document.querySelector('#' + key + ' button');\n",
              "      quickchartButtonEl.disabled = true;  // To prevent multiple clicks.\n",
              "      quickchartButtonEl.classList.add('colab-df-spinner');\n",
              "      try {\n",
              "        const charts = await google.colab.kernel.invokeFunction(\n",
              "            'suggestCharts', [key], {});\n",
              "      } catch (error) {\n",
              "        console.error('Error during call to suggestCharts:', error);\n",
              "      }\n",
              "      quickchartButtonEl.classList.remove('colab-df-spinner');\n",
              "      quickchartButtonEl.classList.add('colab-df-quickchart-complete');\n",
              "    }\n",
              "    (() => {\n",
              "      let quickchartButtonEl =\n",
              "        document.querySelector('#df-6c22bbc7-113e-4a02-a2ca-f91c14f89bd7 button');\n",
              "      quickchartButtonEl.style.display =\n",
              "        google.colab.kernel.accessAllowed ? 'block' : 'none';\n",
              "    })();\n",
              "  </script>\n",
              "</div>\n",
              "    </div>\n",
              "  </div>\n"
            ]
          },
          "metadata": {},
          "execution_count": 36
        }
      ]
    },
    {
      "cell_type": "markdown",
      "source": [
        "## **Requests**"
      ],
      "metadata": {
        "id": "Alj9sylFhNjo"
      }
    },
    {
      "cell_type": "code",
      "source": [
        "response_taxas_juros=requests.get(url_taxas_juros)\n",
        "response_taxas_juros.status_code\n",
        "\n",
        "response_expecs=requests.get(url_expecs)\n",
        "response_expecs.status_code\n",
        "\n",
        "response_ipca=requests.get(url_ipca)\n",
        "response_ipca.status_code"
      ],
      "metadata": {
        "colab": {
          "base_uri": "https://localhost:8080/"
        },
        "id": "Ra9rQAMEhTBQ",
        "outputId": "94012eaf-f63c-4705-99b2-7220ceb35d84"
      },
      "execution_count": 37,
      "outputs": [
        {
          "output_type": "execute_result",
          "data": {
            "text/plain": [
              "200"
            ]
          },
          "metadata": {},
          "execution_count": 37
        }
      ]
    },
    {
      "cell_type": "markdown",
      "source": [
        "## **Alertas de erros na API**"
      ],
      "metadata": {
        "id": "jWzeS9X6HVwz"
      }
    },
    {
      "cell_type": "code",
      "source": [
        "from plyer import notification\n",
        "from datetime import datetime, date\n",
        "\n",
        "data=str(datetime.now())\n",
        "\n",
        "def alerta(nome, status, reason, instituicao):\n",
        "  notification.notify(\n",
        "      title=f'Erro ao acessar a API {nome}.',\n",
        "      message=f'Erro {status}, {reason}.\\n{data}.',\n",
        "      app_name=instituicao,\n",
        "      timeout=10 )\n",
        "\n",
        "# Alerta erro API 1:\n",
        "\n",
        "if response_taxas_juros.status_code==200:\n",
        "  taxas_juros=response_taxas_juros.json() # Posso trocar o nome \"data_json\" ou tem alguma utilidade? (estava assim nos exemplos em aula: data_json=response_taxas_juros.json()\n",
        "else:\n",
        "  alerta(nome=\"taxas_juros\", status=response_taxas_juros.status_code, reason=response_taxas_juros.reason, instituicao=\"Banco Central do Brasil\")\n",
        "\n",
        "# Alerta erro API 2:\n",
        "\n",
        "if response_expecs.status_code==200:\n",
        "      expecs=response_expecs.json()\n",
        "else:\n",
        "  alerta(nome=\"expecs\", status=response_expecs.status_code, reason=response_expecs.reason, instituicao=\"Banco Central do Brasil\")\n",
        "\n",
        "# Alerta erro API 3:\n",
        "\n",
        "if response_ipca.status_code==200:\n",
        "      ipca=response_ipca.json()\n",
        "else:\n",
        "  alerta(nome=\"ipca\", status=response_ipca.status_code, reason=response_ipca.reason, instituicao=\"IBGE\")\n",
        "\n",
        "# Alerta sucesso APIs:\n",
        "\n",
        "def alerta_sucesso():\n",
        "  notification.notify(\n",
        "      title='Processo finalizado.',\n",
        "      message=f'Sucesso ao acessar todas as APIs.\\n{data}.',\n",
        "      app_name=\"APIs\",\n",
        "      timeout=10 )\n",
        "\n",
        "if response_taxas_juros.status_code==200 and response_expecs.status_code==200 and response_ipca.status_code==200:\n",
        "  alerta_sucesso()\n"
      ],
      "metadata": {
        "colab": {
          "base_uri": "https://localhost:8080/",
          "height": 374
        },
        "id": "OJtlTchgB3G4",
        "outputId": "b45e5f85-5abc-4f3d-beba-f4de493ce0e0"
      },
      "execution_count": 39,
      "outputs": [
        {
          "output_type": "error",
          "ename": "DBusException",
          "evalue": "ignored",
          "traceback": [
            "\u001b[0;31m---------------------------------------------------------------------------\u001b[0m",
            "\u001b[0;31mDBusException\u001b[0m                             Traceback (most recent call last)",
            "\u001b[0;32m<ipython-input-39-728d9a5ad0d8>\u001b[0m in \u001b[0;36m<cell line: 35>\u001b[0;34m()\u001b[0m\n\u001b[1;32m     34\u001b[0m \u001b[0;34m\u001b[0m\u001b[0m\n\u001b[1;32m     35\u001b[0m \u001b[0;32mif\u001b[0m \u001b[0mresponse_taxas_juros\u001b[0m\u001b[0;34m.\u001b[0m\u001b[0mstatus_code\u001b[0m\u001b[0;34m==\u001b[0m\u001b[0;36m200\u001b[0m \u001b[0;32mand\u001b[0m \u001b[0mresponse_expecs\u001b[0m\u001b[0;34m.\u001b[0m\u001b[0mstatus_code\u001b[0m\u001b[0;34m==\u001b[0m\u001b[0;36m200\u001b[0m \u001b[0;32mand\u001b[0m \u001b[0mresponse_ipca\u001b[0m\u001b[0;34m.\u001b[0m\u001b[0mstatus_code\u001b[0m\u001b[0;34m==\u001b[0m\u001b[0;36m200\u001b[0m\u001b[0;34m:\u001b[0m\u001b[0;34m\u001b[0m\u001b[0;34m\u001b[0m\u001b[0m\n\u001b[0;32m---> 36\u001b[0;31m   \u001b[0malerta_sucesso\u001b[0m\u001b[0;34m(\u001b[0m\u001b[0;34m)\u001b[0m\u001b[0;34m\u001b[0m\u001b[0;34m\u001b[0m\u001b[0m\n\u001b[0m\u001b[1;32m     37\u001b[0m \u001b[0;34m\u001b[0m\u001b[0m\n",
            "\u001b[0;32m<ipython-input-39-728d9a5ad0d8>\u001b[0m in \u001b[0;36malerta_sucesso\u001b[0;34m()\u001b[0m\n\u001b[1;32m     27\u001b[0m \u001b[0;34m\u001b[0m\u001b[0m\n\u001b[1;32m     28\u001b[0m \u001b[0;32mdef\u001b[0m \u001b[0malerta_sucesso\u001b[0m\u001b[0;34m(\u001b[0m\u001b[0;34m)\u001b[0m\u001b[0;34m:\u001b[0m\u001b[0;34m\u001b[0m\u001b[0;34m\u001b[0m\u001b[0m\n\u001b[0;32m---> 29\u001b[0;31m   notification.notify(\n\u001b[0m\u001b[1;32m     30\u001b[0m       \u001b[0mtitle\u001b[0m\u001b[0;34m=\u001b[0m\u001b[0;34m'Processo finalizado.'\u001b[0m\u001b[0;34m,\u001b[0m\u001b[0;34m\u001b[0m\u001b[0;34m\u001b[0m\u001b[0m\n\u001b[1;32m     31\u001b[0m       \u001b[0mmessage\u001b[0m\u001b[0;34m=\u001b[0m\u001b[0;34mf'Sucesso ao acessar todas as APIs.\\n{data}.'\u001b[0m\u001b[0;34m,\u001b[0m\u001b[0;34m\u001b[0m\u001b[0;34m\u001b[0m\u001b[0m\n",
            "\u001b[0;32m/usr/local/lib/python3.10/dist-packages/plyer/facades/notification.py\u001b[0m in \u001b[0;36mnotify\u001b[0;34m(self, title, message, app_name, app_icon, timeout, ticker, toast, hints)\u001b[0m\n\u001b[1;32m     82\u001b[0m         '''\n\u001b[1;32m     83\u001b[0m \u001b[0;34m\u001b[0m\u001b[0m\n\u001b[0;32m---> 84\u001b[0;31m         self._notify(\n\u001b[0m\u001b[1;32m     85\u001b[0m             \u001b[0mtitle\u001b[0m\u001b[0;34m=\u001b[0m\u001b[0mtitle\u001b[0m\u001b[0;34m,\u001b[0m \u001b[0mmessage\u001b[0m\u001b[0;34m=\u001b[0m\u001b[0mmessage\u001b[0m\u001b[0;34m,\u001b[0m\u001b[0;34m\u001b[0m\u001b[0;34m\u001b[0m\u001b[0m\n\u001b[1;32m     86\u001b[0m             \u001b[0mapp_icon\u001b[0m\u001b[0;34m=\u001b[0m\u001b[0mapp_icon\u001b[0m\u001b[0;34m,\u001b[0m \u001b[0mapp_name\u001b[0m\u001b[0;34m=\u001b[0m\u001b[0mapp_name\u001b[0m\u001b[0;34m,\u001b[0m\u001b[0;34m\u001b[0m\u001b[0;34m\u001b[0m\u001b[0m\n",
            "\u001b[0;32m/usr/local/lib/python3.10/dist-packages/plyer/platforms/linux/notification.py\u001b[0m in \u001b[0;36m_notify\u001b[0;34m(self, **kwargs)\u001b[0m\n\u001b[1;32m     76\u001b[0m \u001b[0;34m\u001b[0m\u001b[0m\n\u001b[1;32m     77\u001b[0m         \u001b[0;32mimport\u001b[0m \u001b[0mdbus\u001b[0m\u001b[0;34m\u001b[0m\u001b[0;34m\u001b[0m\u001b[0m\n\u001b[0;32m---> 78\u001b[0;31m         \u001b[0msession_bus\u001b[0m \u001b[0;34m=\u001b[0m \u001b[0mdbus\u001b[0m\u001b[0;34m.\u001b[0m\u001b[0mSessionBus\u001b[0m\u001b[0;34m(\u001b[0m\u001b[0;34m)\u001b[0m\u001b[0;34m\u001b[0m\u001b[0;34m\u001b[0m\u001b[0m\n\u001b[0m\u001b[1;32m     79\u001b[0m         \u001b[0mobj\u001b[0m \u001b[0;34m=\u001b[0m \u001b[0msession_bus\u001b[0m\u001b[0;34m.\u001b[0m\u001b[0mget_object\u001b[0m\u001b[0;34m(\u001b[0m\u001b[0m_bus_name\u001b[0m\u001b[0;34m,\u001b[0m \u001b[0m_object_path\u001b[0m\u001b[0;34m)\u001b[0m\u001b[0;34m\u001b[0m\u001b[0;34m\u001b[0m\u001b[0m\n\u001b[1;32m     80\u001b[0m         \u001b[0minterface\u001b[0m \u001b[0;34m=\u001b[0m \u001b[0mdbus\u001b[0m\u001b[0;34m.\u001b[0m\u001b[0mInterface\u001b[0m\u001b[0;34m(\u001b[0m\u001b[0mobj\u001b[0m\u001b[0;34m,\u001b[0m \u001b[0m_interface_name\u001b[0m\u001b[0;34m)\u001b[0m\u001b[0;34m\u001b[0m\u001b[0;34m\u001b[0m\u001b[0m\n",
            "\u001b[0;32m/usr/lib/python3/dist-packages/dbus/_dbus.py\u001b[0m in \u001b[0;36m__new__\u001b[0;34m(cls, private, mainloop)\u001b[0m\n\u001b[1;32m    210\u001b[0m                 \u001b[0;32mif\u001b[0m \u001b[0mnone\u001b[0m \u001b[0mhas\u001b[0m \u001b[0mbeen\u001b[0m\u001b[0;34m.\u001b[0m\u001b[0;34m\u001b[0m\u001b[0;34m\u001b[0m\u001b[0m\n\u001b[1;32m    211\u001b[0m         \"\"\"\n\u001b[0;32m--> 212\u001b[0;31m         return Bus.__new__(cls, Bus.TYPE_SESSION, private=private,\n\u001b[0m\u001b[1;32m    213\u001b[0m                            mainloop=mainloop)\n\u001b[1;32m    214\u001b[0m \u001b[0;34m\u001b[0m\u001b[0m\n",
            "\u001b[0;32m/usr/lib/python3/dist-packages/dbus/_dbus.py\u001b[0m in \u001b[0;36m__new__\u001b[0;34m(cls, bus_type, private, mainloop)\u001b[0m\n\u001b[1;32m    100\u001b[0m             \u001b[0;32mraise\u001b[0m \u001b[0mValueError\u001b[0m\u001b[0;34m(\u001b[0m\u001b[0;34m'invalid bus_type %s'\u001b[0m \u001b[0;34m%\u001b[0m \u001b[0mbus_type\u001b[0m\u001b[0;34m)\u001b[0m\u001b[0;34m\u001b[0m\u001b[0;34m\u001b[0m\u001b[0m\n\u001b[1;32m    101\u001b[0m \u001b[0;34m\u001b[0m\u001b[0m\n\u001b[0;32m--> 102\u001b[0;31m         \u001b[0mbus\u001b[0m \u001b[0;34m=\u001b[0m \u001b[0mBusConnection\u001b[0m\u001b[0;34m.\u001b[0m\u001b[0m__new__\u001b[0m\u001b[0;34m(\u001b[0m\u001b[0msubclass\u001b[0m\u001b[0;34m,\u001b[0m \u001b[0mbus_type\u001b[0m\u001b[0;34m,\u001b[0m \u001b[0mmainloop\u001b[0m\u001b[0;34m=\u001b[0m\u001b[0mmainloop\u001b[0m\u001b[0;34m)\u001b[0m\u001b[0;34m\u001b[0m\u001b[0;34m\u001b[0m\u001b[0m\n\u001b[0m\u001b[1;32m    103\u001b[0m \u001b[0;34m\u001b[0m\u001b[0m\n\u001b[1;32m    104\u001b[0m         \u001b[0mbus\u001b[0m\u001b[0;34m.\u001b[0m\u001b[0m_bus_type\u001b[0m \u001b[0;34m=\u001b[0m \u001b[0mbus_type\u001b[0m\u001b[0;34m\u001b[0m\u001b[0;34m\u001b[0m\u001b[0m\n",
            "\u001b[0;32m/usr/lib/python3/dist-packages/dbus/bus.py\u001b[0m in \u001b[0;36m__new__\u001b[0;34m(cls, address_or_type, mainloop)\u001b[0m\n\u001b[1;32m    122\u001b[0m \u001b[0;34m\u001b[0m\u001b[0m\n\u001b[1;32m    123\u001b[0m     \u001b[0;32mdef\u001b[0m \u001b[0m__new__\u001b[0m\u001b[0;34m(\u001b[0m\u001b[0mcls\u001b[0m\u001b[0;34m,\u001b[0m \u001b[0maddress_or_type\u001b[0m\u001b[0;34m=\u001b[0m\u001b[0mTYPE_SESSION\u001b[0m\u001b[0;34m,\u001b[0m \u001b[0mmainloop\u001b[0m\u001b[0;34m=\u001b[0m\u001b[0;32mNone\u001b[0m\u001b[0;34m)\u001b[0m\u001b[0;34m:\u001b[0m\u001b[0;34m\u001b[0m\u001b[0;34m\u001b[0m\u001b[0m\n\u001b[0;32m--> 124\u001b[0;31m         \u001b[0mbus\u001b[0m \u001b[0;34m=\u001b[0m \u001b[0mcls\u001b[0m\u001b[0;34m.\u001b[0m\u001b[0m_new_for_bus\u001b[0m\u001b[0;34m(\u001b[0m\u001b[0maddress_or_type\u001b[0m\u001b[0;34m,\u001b[0m \u001b[0mmainloop\u001b[0m\u001b[0;34m=\u001b[0m\u001b[0mmainloop\u001b[0m\u001b[0;34m)\u001b[0m\u001b[0;34m\u001b[0m\u001b[0;34m\u001b[0m\u001b[0m\n\u001b[0m\u001b[1;32m    125\u001b[0m \u001b[0;34m\u001b[0m\u001b[0m\n\u001b[1;32m    126\u001b[0m         \u001b[0;31m# _bus_names is used by dbus.service.BusName!\u001b[0m\u001b[0;34m\u001b[0m\u001b[0;34m\u001b[0m\u001b[0m\n",
            "\u001b[0;31mDBusException\u001b[0m: org.freedesktop.DBus.Error.NotSupported: Unable to autolaunch a dbus-daemon without a $DISPLAY for X11"
          ]
        }
      ]
    }
  ]
}